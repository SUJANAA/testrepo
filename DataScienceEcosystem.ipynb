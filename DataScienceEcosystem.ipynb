{
 "cells": [
  {
   "cell_type": "markdown",
   "id": "7aedff4d-c9ee-49e4-a89a-c73b6741e6ea",
   "metadata": {},
   "source": [
    "# Data Science Tools and Ecosystem"
   ]
  },
  {
   "cell_type": "markdown",
   "id": "3a176d5e-f7ff-4fac-bfd5-d6546d9eb836",
   "metadata": {},
   "source": [
    "## Introduction\n",
    "In this notebook, Data Science Tools and Ecosystem are summarized."
   ]
  },
  {
   "cell_type": "markdown",
   "id": "54eb2a17-620e-4f27-8abc-969b3295d2a9",
   "metadata": {},
   "source": [
    "Some of the popular languages that Data Scientists use are:\n",
    "1. Python\n",
    "2. R\n",
    "3. SQL\n",
    "4. Scala"
   ]
  },
  {
   "cell_type": "markdown",
   "id": "e3fd33b3-a5bf-407e-8f6c-994937eb0d0a",
   "metadata": {},
   "source": [
    "Some of the commonly used libraries used by Data Scientists include:\n",
    "\n",
    "1. NumPy\n",
    "2. Pandas\n",
    "3. Matplotlib\n",
    "4. Scikit-learn\n",
    "5. TensorFlow"
   ]
  },
  {
   "cell_type": "markdown",
   "id": "54683e82-4a4e-438b-933b-b6a397e8fe38",
   "metadata": {},
   "source": [
    "| Data Science Tools |\n",
    "|:-------------------|\n",
    "| Jupyter Notebook   |\n",
    "| RStudio            |\n",
    "| Apache Zeppelin    |"
   ]
  },
  {
   "cell_type": "markdown",
   "id": "34f84b57-c5fb-46d6-b618-718cacd97015",
   "metadata": {},
   "source": [
    "### Below are a few examples of evaluating arithmetic expressions in Python"
   ]
  },
  {
   "cell_type": "code",
   "execution_count": 3,
   "id": "c8b9b4fc-dd27-468a-8031-c7217f057f34",
   "metadata": {},
   "outputs": [
    {
     "data": {
      "text/plain": [
       "17"
      ]
     },
     "execution_count": 3,
     "metadata": {},
     "output_type": "execute_result"
    }
   ],
   "source": [
    "# This is a simple arithmetic expression to multiply then add integers\n",
    "(3*4)+5"
   ]
  },
  {
   "cell_type": "code",
   "execution_count": 1,
   "id": "6b3f1909-00f4-41f5-9b81-6ea303a5d167",
   "metadata": {},
   "outputs": [
    {
     "name": "stdout",
     "output_type": "stream",
     "text": [
      "3.3333333333333335\n"
     ]
    }
   ],
   "source": [
    "# This will convert 200 minutes to hours by diving by 60\n",
    "min = 200\n",
    "hours = min /60\n",
    "print(hours)"
   ]
  },
  {
   "cell_type": "markdown",
   "id": "741084d2-526b-4d3a-b6af-bf56268e6639",
   "metadata": {},
   "source": [
    "**Objectives:**\n",
    "  \n",
    "- List popular languages for Data Science\n",
    "- Creating Markdown Cells in Jupyter Notebook.\n",
    "- Performing arthimetic operations in cells.\n",
    "- Creating ordered lists.\n",
    "- Some of the most popular languages for Data Science"
   ]
  },
  {
   "cell_type": "markdown",
   "id": "7a760456-0bc9-4beb-ade3-226c9da718c9",
   "metadata": {},
   "source": [
    "## Author\n",
    "Sujanaa J"
   ]
  },
  {
   "cell_type": "code",
   "execution_count": null,
   "id": "60894015-8196-43ba-9437-fc53413cfb4e",
   "metadata": {},
   "outputs": [],
   "source": []
  }
 ],
 "metadata": {
  "kernelspec": {
   "display_name": "Python 3 (ipykernel)",
   "language": "python",
   "name": "python3"
  },
  "language_info": {
   "codemirror_mode": {
    "name": "ipython",
    "version": 3
   },
   "file_extension": ".py",
   "mimetype": "text/x-python",
   "name": "python",
   "nbconvert_exporter": "python",
   "pygments_lexer": "ipython3",
   "version": "3.10.12"
  }
 },
 "nbformat": 4,
 "nbformat_minor": 5
}
